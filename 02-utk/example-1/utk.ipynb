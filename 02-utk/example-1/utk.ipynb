{
 "cells": [
  {
   "cell_type": "code",
   "execution_count": 2,
   "id": "80043a99-95b3-4aaa-a446-44bb2345dc7b",
   "metadata": {},
   "outputs": [],
   "source": [
    "import utk"
   ]
  },
  {
   "cell_type": "code",
   "execution_count": null,
   "id": "813484a0-16e9-449c-9529-bd4f59db5d75",
   "metadata": {},
   "outputs": [],
   "source": [
    "uc = utk.OSM.load([40.699768, -74.019904, 40.71135, -74.004712], layers=['water', 'surface', 'parks', 'roads', 'buildings'])\n",
    "uc.save('./example', includeGrammar=True)"
   ]
  }
 ],
 "metadata": {
  "kernelspec": {
   "display_name": "Python 3 (ipykernel)",
   "language": "python",
   "name": "python3"
  },
  "language_info": {
   "codemirror_mode": {
    "name": "ipython",
    "version": 3
   },
   "file_extension": ".py",
   "mimetype": "text/x-python",
   "name": "python",
   "nbconvert_exporter": "python",
   "pygments_lexer": "ipython3",
   "version": "3.9.18"
  }
 },
 "nbformat": 4,
 "nbformat_minor": 5
}
